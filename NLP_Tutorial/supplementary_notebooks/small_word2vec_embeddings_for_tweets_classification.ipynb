{
 "cells": [
  {
   "cell_type": "markdown",
   "metadata": {},
   "source": [
    "###  Tweets Classification Using word2vec Word Embeddings as Featrues\n",
    "Here, we'll predict political party ('Conservative' or 'Labour') of a Member of Parliament (MP) of UK Parliament based on his/her tweets. The data (tweets of ~500 MPs since Aug 23- 2020) were extracted using V2 of Twitter API."
   ]
  },
  {
   "cell_type": "code",
   "execution_count": 1,
   "metadata": {
    "nbgrader": {
     "grade": false,
     "grade_id": "cell-9f7d286c15b1e9ac",
     "locked": true,
     "schema_version": 1,
     "solution": false
    },
    "scrolled": true
   },
   "outputs": [
    {
     "name": "stdout",
     "output_type": "stream",
     "text": [
      "[nltk_data] Downloading package stopwords to\n",
      "[nltk_data]     /Users/hamzaliaqet/nltk_data...\n",
      "[nltk_data]   Package stopwords is already up-to-date!\n"
     ]
    },
    {
     "data": {
      "text/plain": [
       "True"
      ]
     },
     "execution_count": 1,
     "metadata": {},
     "output_type": "execute_result"
    }
   ],
   "source": [
    "# Setup Library imports.\n",
    "import nltk\n",
    "import numpy as np\n",
    "import sklearn\n",
    "import pandas as pd\n",
    "import re\n",
    "from nltk.stem import WordNetLemmatizer\n",
    "\n",
    "from sklearn.svm import SVC\n",
    "from sklearn.metrics import accuracy_score\n",
    "from sklearn.model_selection import train_test_split\n",
    "import gensim as gs\n",
    "\n",
    "nltk.download('stopwords')"
   ]
  },
  {
   "cell_type": "code",
   "execution_count": 2,
   "metadata": {
    "nbgrader": {
     "grade": false,
     "grade_id": "cell-333c2f053e3e69a8",
     "locked": true,
     "schema_version": 1,
     "solution": false
    },
    "scrolled": true
   },
   "outputs": [
    {
     "name": "stdout",
     "output_type": "stream",
     "text": [
      "total tweets: 3464\n"
     ]
    },
    {
     "data": {
      "text/html": [
       "<div>\n",
       "<style scoped>\n",
       "    .dataframe tbody tr th:only-of-type {\n",
       "        vertical-align: middle;\n",
       "    }\n",
       "\n",
       "    .dataframe tbody tr th {\n",
       "        vertical-align: top;\n",
       "    }\n",
       "\n",
       "    .dataframe thead th {\n",
       "        text-align: right;\n",
       "    }\n",
       "</style>\n",
       "<table border=\"1\" class=\"dataframe\">\n",
       "  <thead>\n",
       "    <tr style=\"text-align: right;\">\n",
       "      <th></th>\n",
       "      <th>tweets</th>\n",
       "      <th>MP_twitter_username</th>\n",
       "      <th>Party</th>\n",
       "    </tr>\n",
       "  </thead>\n",
       "  <tbody>\n",
       "    <tr>\n",
       "      <th>0</th>\n",
       "      <td>RT @MoJGovUK: New courtroom protections in som...</td>\n",
       "      <td>edwardtimpson</td>\n",
       "      <td>Conservative</td>\n",
       "    </tr>\n",
       "    <tr>\n",
       "      <th>1</th>\n",
       "      <td>Thanks for the warm welcome and for all that y...</td>\n",
       "      <td>JBrokenshire</td>\n",
       "      <td>Conservative</td>\n",
       "    </tr>\n",
       "    <tr>\n",
       "      <th>2</th>\n",
       "      <td>@Shaunaryallx @Taurus8Gemini That really isn’t...</td>\n",
       "      <td>RhonddaBryant</td>\n",
       "      <td>Labour</td>\n",
       "    </tr>\n",
       "    <tr>\n",
       "      <th>3</th>\n",
       "      <td>RT @KateGreenSU: Today on @GMB I emphasised ho...</td>\n",
       "      <td>Bill_Esterson</td>\n",
       "      <td>Labour</td>\n",
       "    </tr>\n",
       "    <tr>\n",
       "      <th>4</th>\n",
       "      <td>RT @SebastianEPayne: Corbyn aide Andrew Murray...</td>\n",
       "      <td>patmcfaddenmp</td>\n",
       "      <td>Labour</td>\n",
       "    </tr>\n",
       "  </tbody>\n",
       "</table>\n",
       "</div>"
      ],
      "text/plain": [
       "                                              tweets MP_twitter_username  \\\n",
       "0  RT @MoJGovUK: New courtroom protections in som...       edwardtimpson   \n",
       "1  Thanks for the warm welcome and for all that y...        JBrokenshire   \n",
       "2  @Shaunaryallx @Taurus8Gemini That really isn’t...       RhonddaBryant   \n",
       "3  RT @KateGreenSU: Today on @GMB I emphasised ho...       Bill_Esterson   \n",
       "4  RT @SebastianEPayne: Corbyn aide Andrew Murray...       patmcfaddenmp   \n",
       "\n",
       "          Party  \n",
       "0  Conservative  \n",
       "1  Conservative  \n",
       "2        Labour  \n",
       "3        Labour  \n",
       "4        Labour  "
      ]
     },
     "execution_count": 2,
     "metadata": {},
     "output_type": "execute_result"
    }
   ],
   "source": [
    "# Read the csv file dataset into a dataframe\n",
    "tweets_df = pd.read_csv(\"UK_MPs_tweets/MPsTweets_from_24Aug_31Aug_2020.csv\")\n",
    "print('total tweets:',len(tweets_df)) # total tweets\n",
    "tweets_df = tweets_df.sample(frac=1, random_state=1).reset_index(drop=True) # shuffle rows\n",
    "tweets_df.head()"
   ]
  },
  {
   "cell_type": "code",
   "execution_count": 87,
   "metadata": {
    "nbgrader": {
     "grade": false,
     "grade_id": "cell-d9fde8d0ae0d440b",
     "locked": false,
     "schema_version": 1,
     "solution": true
    }
   },
   "outputs": [],
   "source": [
    "# You may define any helper functions in this cell or any other cell if needed.\n",
    "### BEGIN SOLUTION\n",
    "# First find hashtags.\n",
    "def extract_hashtags(tweet_text):\n",
    "    match_hashtag = re.compile('#\\w+')\n",
    "    hashtags_list = match_hashtag.findall(tweet_text)\n",
    "    hashtags_list_without_hash_symbol = [hashtag[1:] for hashtag in hashtags_list]\n",
    "    return hashtags_list_without_hash_symbol\n",
    "\n",
    "# Split hashtags. Based on Capital letter assumption\n",
    "def get_words_from_hashtags(hashtag):\n",
    "    # Extract word if you see 'one' capital letter and any number \n",
    "    # of small letters next to it.\n",
    "    expanded = [a for a in re.split('([A-Z][a-z]+)', hashtag) if a] \n",
    "    return expanded # If this is providing more words than probablistic approach (wordninja). Use this.\n",
    "### END SOLUTION"
   ]
  },
  {
   "cell_type": "code",
   "execution_count": 88,
   "metadata": {
    "nbgrader": {
     "grade": false,
     "grade_id": "cell-a51365832d0514fe",
     "locked": true,
     "schema_version": 1,
     "solution": false
    }
   },
   "outputs": [],
   "source": [
    "stopwords = set(nltk.corpus.stopwords.words('english')) | set([\"http\", \"co\", \"rt\", \"amp\"]) \n"
   ]
  },
  {
   "cell_type": "code",
   "execution_count": 89,
   "metadata": {
    "nbgrader": {
     "grade": false,
     "grade_id": "cell-393c3501c27f3263",
     "locked": false,
     "schema_version": 1,
     "solution": true
    }
   },
   "outputs": [],
   "source": [
    "# Create class (instead of a function) so that we don't have to pass \n",
    "# stopwords in every func call\n",
    "\n",
    "class PreprocessTweets(object): \n",
    "    \n",
    "    def __init__(self, _stopwords=[]):\n",
    "        self.stopwords = _stopwords\n",
    "        \n",
    "    def __call__(self, tweet_text): # call this everytime an object of this class is instantiated\n",
    "        ### BEGIN SOLUTION\n",
    "        hashtags = extract_hashtags(tweet_text)\n",
    "\n",
    "        # Remove only 10 chars after t.co/  . Any thing else is meaningful\n",
    "        t_dot_co_url_re = re.compile('https://t.co/\\w{10}')\n",
    "        tweet_text_no_url = t_dot_co_url_re.sub('', tweet_text)\n",
    "\n",
    "        # Remove, 's e.g. teacher's => teacher\n",
    "        re_for_removing_s = re.compile(\"('s)|('S)\") # step 1\n",
    "        tweet_text_no_s = re_for_removing_s.sub('', tweet_text_no_url)\n",
    "\n",
    "        # Remove apostrophe comma. e.g. won't => wont\n",
    "        re_for_removing_apostrophe = re.compile(\"'\") # step 2\n",
    "        tweet_text_no_apostrophe = re_for_removing_apostrophe.sub('', tweet_text_no_s)\n",
    "\n",
    "        tokenized_text = nltk.word_tokenize(tweet_text_no_apostrophe)\n",
    "        \n",
    "        # Keep only unicode chars\n",
    "        re_for_removing_non_alphanumeric_chars = re.compile(\"[a-zA-Z0-9_]+\")\n",
    "        tokens_with_alphanumeric_words = []\n",
    "        for word in tokenized_text:\n",
    "            words_with_alpha_numeric_chars = re_for_removing_non_alphanumeric_chars.findall(word)\n",
    "            tokens_with_alphanumeric_words = tokens_with_alphanumeric_words \\\n",
    "                                             + words_with_alpha_numeric_chars\n",
    "        \n",
    "        # From tokenized text, remove hashtags- otherwise duplicates might occur.    \n",
    "        tokenized_text = [token for token in tokens_with_alphanumeric_words if token not in hashtags]\n",
    "\n",
    "        # Hashtag to words\n",
    "        hashtag_words_extracted = list(map(lambda hashtag: get_words_from_hashtags(hashtag),\n",
    "                                           hashtags))\n",
    "        hashtag_words_in_1D_list = [item for sublist in hashtag_words_extracted \n",
    "                                            for item in sublist]\n",
    "\n",
    "        tokenized_text = tokenized_text + hashtag_words_in_1D_list\n",
    "\n",
    "        # Convert each word to lower case\n",
    "        tokenized_text_lowercase = list(map(lambda word: word.lower(), tokenized_text))\n",
    "\n",
    "        # Lemmatizer\n",
    "        wnl = WordNetLemmatizer()\n",
    "        lemmatized_tokens = list(map(lambda word: str(wnl.lemmatize(word)), tokenized_text_lowercase))\n",
    "\n",
    "\n",
    "        # Stop words removal.\n",
    "        tokens_without_stop_words = [word for word in lemmatized_tokens \\\n",
    "                                    if word not in self.stopwords]\n",
    "        return tokens_without_stop_words\n",
    "        ### END SOLUTION"
   ]
  },
  {
   "cell_type": "code",
   "execution_count": 8,
   "metadata": {},
   "outputs": [],
   "source": [
    "# Embedding Vectorizer.\n",
    "class MeanEmbeddingVectorizer(object):\n",
    "    def __init__(self, word2vec_model):\n",
    "        self.word2vec = word2vec_model\n",
    "        self.dim = 300 # default 300 dim vectors returned by our word2vec \n",
    "\n",
    "    def fit(self, X, y):\n",
    "        return self\n",
    "\n",
    "    def transform(self, X_list):\n",
    "        return np.array([\n",
    "            np.mean([self.word2vec[w] for w in doc if w in self.word2vec]\n",
    "                    or [np.zeros(self.dim)], axis=0)  # if word not in word2vec return a vector of zeros\n",
    "            for doc in X_list\n",
    "        ])"
   ]
  },
  {
   "cell_type": "code",
   "execution_count": 9,
   "metadata": {},
   "outputs": [],
   "source": [
    "word2vec_model = gs.models.KeyedVectors.load_word2vec_format(\n",
    "                        'data/deps.words.bin', binary=True)"
   ]
  },
  {
   "cell_type": "code",
   "execution_count": 10,
   "metadata": {},
   "outputs": [],
   "source": [
    "emb_vectorizer = MeanEmbeddingVectorizer(word2vec_model)\n"
   ]
  },
  {
   "cell_type": "code",
   "execution_count": 93,
   "metadata": {
    "nbgrader": {
     "grade": false,
     "grade_id": "cell-7645ce04b7456494",
     "locked": true,
     "schema_version": 1,
     "solution": false
    }
   },
   "outputs": [],
   "source": [
    "# Extract tweets text (raw features) and labels.\n",
    "raw_features_tweets = tweets_df['tweets']\n",
    "labels = tweets_df['Party']"
   ]
  },
  {
   "cell_type": "code",
   "execution_count": 94,
   "metadata": {
    "nbgrader": {
     "grade": false,
     "grade_id": "cell-b57602a35a0baa3f",
     "locked": true,
     "schema_version": 1,
     "solution": false
    }
   },
   "outputs": [],
   "source": [
    "# Preprocess features using preprocess.\n",
    "preprocessed_features = raw_features_tweets.apply(func=lambda tweet_text: preprocess(tweet_text))\n"
   ]
  },
  {
   "cell_type": "code",
   "execution_count": 95,
   "metadata": {
    "nbgrader": {
     "grade": false,
     "grade_id": "cell-e2baddb12a757281",
     "locked": true,
     "schema_version": 1,
     "solution": false
    },
    "scrolled": true
   },
   "outputs": [
    {
     "data": {
      "text/html": [
       "<div>\n",
       "<style scoped>\n",
       "    .dataframe tbody tr th:only-of-type {\n",
       "        vertical-align: middle;\n",
       "    }\n",
       "\n",
       "    .dataframe tbody tr th {\n",
       "        vertical-align: top;\n",
       "    }\n",
       "\n",
       "    .dataframe thead th {\n",
       "        text-align: right;\n",
       "    }\n",
       "</style>\n",
       "<table border=\"1\" class=\"dataframe\">\n",
       "  <thead>\n",
       "    <tr style=\"text-align: right;\">\n",
       "      <th></th>\n",
       "      <th>tweets</th>\n",
       "      <th>Party</th>\n",
       "    </tr>\n",
       "  </thead>\n",
       "  <tbody>\n",
       "    <tr>\n",
       "      <th>0</th>\n",
       "      <td>[mojgovuk, new, courtroom, protection, crown, ...</td>\n",
       "      <td>Conservative</td>\n",
       "    </tr>\n",
       "    <tr>\n",
       "      <th>1</th>\n",
       "      <td>[thanks, warm, welcome, great, meet, scope, te...</td>\n",
       "      <td>Conservative</td>\n",
       "    </tr>\n",
       "    <tr>\n",
       "      <th>2</th>\n",
       "      <td>[shaunaryallx, taurus8gemini, really, true, la...</td>\n",
       "      <td>Labour</td>\n",
       "    </tr>\n",
       "    <tr>\n",
       "      <th>3</th>\n",
       "      <td>[kategreensu, today, gmb, emphasised, importan...</td>\n",
       "      <td>Labour</td>\n",
       "    </tr>\n",
       "    <tr>\n",
       "      <th>4</th>\n",
       "      <td>[sebastianepayne, corbyn, aide, andrew, murray...</td>\n",
       "      <td>Labour</td>\n",
       "    </tr>\n",
       "  </tbody>\n",
       "</table>\n",
       "</div>"
      ],
      "text/plain": [
       "                                              tweets         Party\n",
       "0  [mojgovuk, new, courtroom, protection, crown, ...  Conservative\n",
       "1  [thanks, warm, welcome, great, meet, scope, te...  Conservative\n",
       "2  [shaunaryallx, taurus8gemini, really, true, la...        Labour\n",
       "3  [kategreensu, today, gmb, emphasised, importan...        Labour\n",
       "4  [sebastianepayne, corbyn, aide, andrew, murray...        Labour"
      ]
     },
     "execution_count": 95,
     "metadata": {},
     "output_type": "execute_result"
    }
   ],
   "source": [
    "# Put preprocessed features and labels together again.\n",
    "preprocessed_df = pd.concat([preprocessed_features, labels], axis=1)\n",
    "preprocessed_df.head()"
   ]
  },
  {
   "cell_type": "code",
   "execution_count": 96,
   "metadata": {
    "nbgrader": {
     "grade": false,
     "grade_id": "cell-36224999e4a333c1",
     "locked": true,
     "schema_version": 1,
     "solution": false
    }
   },
   "outputs": [],
   "source": [
    "# Split into train/test dataset.\n",
    "train_df, test_df = train_test_split(preprocessed_df, test_size=0.3, \n",
    "                                   random_state=42, shuffle=True)"
   ]
  },
  {
   "cell_type": "code",
   "execution_count": 97,
   "metadata": {
    "nbgrader": {
     "grade": false,
     "grade_id": "cell-3a651fbf4b3f26e7",
     "locked": true,
     "schema_version": 1,
     "solution": false
    }
   },
   "outputs": [
    {
     "data": {
      "text/html": [
       "<div>\n",
       "<style scoped>\n",
       "    .dataframe tbody tr th:only-of-type {\n",
       "        vertical-align: middle;\n",
       "    }\n",
       "\n",
       "    .dataframe tbody tr th {\n",
       "        vertical-align: top;\n",
       "    }\n",
       "\n",
       "    .dataframe thead th {\n",
       "        text-align: right;\n",
       "    }\n",
       "</style>\n",
       "<table border=\"1\" class=\"dataframe\">\n",
       "  <thead>\n",
       "    <tr style=\"text-align: right;\">\n",
       "      <th></th>\n",
       "      <th>tweets</th>\n",
       "      <th>Party</th>\n",
       "    </tr>\n",
       "  </thead>\n",
       "  <tbody>\n",
       "    <tr>\n",
       "      <th>1042</th>\n",
       "      <td>[emilythornberry, anyone, hasnt, seen, want, j...</td>\n",
       "      <td>Labour</td>\n",
       "    </tr>\n",
       "    <tr>\n",
       "      <th>1601</th>\n",
       "      <td>[mennewsdesk, breaking, stockport, released, g...</td>\n",
       "      <td>Labour</td>\n",
       "    </tr>\n",
       "    <tr>\n",
       "      <th>3122</th>\n",
       "      <td>[davdotfo, stopinstockport, wednesday, told]</td>\n",
       "      <td>Labour</td>\n",
       "    </tr>\n",
       "    <tr>\n",
       "      <th>2831</th>\n",
       "      <td>[thought, pop, along, see, commuter, london, p...</td>\n",
       "      <td>Conservative</td>\n",
       "    </tr>\n",
       "    <tr>\n",
       "      <th>2927</th>\n",
       "      <td>[sgmacleanauthor, anyone, remembers, 1970s, un...</td>\n",
       "      <td>Labour</td>\n",
       "    </tr>\n",
       "  </tbody>\n",
       "</table>\n",
       "</div>"
      ],
      "text/plain": [
       "                                                 tweets         Party\n",
       "1042  [emilythornberry, anyone, hasnt, seen, want, j...        Labour\n",
       "1601  [mennewsdesk, breaking, stockport, released, g...        Labour\n",
       "3122       [davdotfo, stopinstockport, wednesday, told]        Labour\n",
       "2831  [thought, pop, along, see, commuter, london, p...  Conservative\n",
       "2927  [sgmacleanauthor, anyone, remembers, 1970s, un...        Labour"
      ]
     },
     "execution_count": 97,
     "metadata": {},
     "output_type": "execute_result"
    }
   ],
   "source": [
    "# This is how train set looks like.\n",
    "train_df.head()"
   ]
  },
  {
   "cell_type": "code",
   "execution_count": 98,
   "metadata": {
    "nbgrader": {
     "grade": false,
     "grade_id": "cell-249a0891d7a4bf54",
     "locked": true,
     "schema_version": 1,
     "solution": false
    }
   },
   "outputs": [],
   "source": [
    "# Extract Train tweets text\n",
    "train_corpus = train_df['tweets']"
   ]
  },
  {
   "cell_type": "code",
   "execution_count": 99,
   "metadata": {
    "nbgrader": {
     "grade": false,
     "grade_id": "cell-1a65f44f076af521",
     "locked": true,
     "schema_version": 1,
     "solution": false
    },
    "scrolled": true
   },
   "outputs": [
    {
     "data": {
      "text/plain": [
       "[0, 0, 0, 1, 0]"
      ]
     },
     "execution_count": 99,
     "metadata": {},
     "output_type": "execute_result"
    }
   ],
   "source": [
    "X_train = emb_vectorizer.transform(train_corpus)# Convert labels to integers [0,1].\n",
    "Train_labels = train_df['Party']\n",
    "y_train = [1 if l == 'Conservative' else 0 for l in Train_labels]\n",
    "y_train[:5] # First 5 labels. 1 for conservative. 0 for labour."
   ]
  },
  {
   "cell_type": "code",
   "execution_count": 100,
   "metadata": {
    "nbgrader": {
     "grade": false,
     "grade_id": "cell-4e6e03dbbe6f5afa",
     "locked": true,
     "schema_version": 1,
     "solution": false
    }
   },
   "outputs": [],
   "source": [
    "# Instantiate a SVC.\n",
    "clf = SVC()"
   ]
  },
  {
   "cell_type": "code",
   "execution_count": 101,
   "metadata": {
    "nbgrader": {
     "grade": false,
     "grade_id": "cell-87101cb9427bd1cf",
     "locked": true,
     "schema_version": 1,
     "solution": false
    },
    "scrolled": false
   },
   "outputs": [
    {
     "data": {
      "text/plain": [
       "SVC()"
      ]
     },
     "execution_count": 101,
     "metadata": {},
     "output_type": "execute_result"
    }
   ],
   "source": [
    "# Train the classifier on train data.\n",
    "clf.fit(X_train, y_train)"
   ]
  },
  {
   "cell_type": "code",
   "execution_count": 102,
   "metadata": {
    "nbgrader": {
     "grade": false,
     "grade_id": "cell-e6512d42a7d4bc0a",
     "locked": true,
     "schema_version": 1,
     "solution": false
    },
    "scrolled": true
   },
   "outputs": [
    {
     "data": {
      "text/plain": [
       "0.8514851485148515"
      ]
     },
     "execution_count": 102,
     "metadata": {},
     "output_type": "execute_result"
    }
   ],
   "source": [
    "# Performance (R2 score) on train data.\n",
    "clf.score(X_train, y_train) "
   ]
  },
  {
   "cell_type": "code",
   "execution_count": 103,
   "metadata": {
    "nbgrader": {
     "grade": false,
     "grade_id": "cell-3e30235930b1a67a",
     "locked": true,
     "schema_version": 1,
     "solution": false
    }
   },
   "outputs": [],
   "source": [
    "# Make TFIDF features of test data.\n",
    "test_corpus = test_df['tweets']\n",
    "X_test = emb_vectorizer.transform(test_corpus)\n",
    "Test_labels = test_df['Party']\n",
    "# Integer labels.\n",
    "y_test = [1 if l == 'Conservative' else 0 for l in Test_labels]"
   ]
  },
  {
   "cell_type": "code",
   "execution_count": 105,
   "metadata": {
    "nbgrader": {
     "grade": false,
     "grade_id": "cell-8ad068044071010f",
     "locked": true,
     "schema_version": 1,
     "solution": false
    },
    "scrolled": false
   },
   "outputs": [
    {
     "data": {
      "text/plain": [
       "0.8538461538461538"
      ]
     },
     "execution_count": 105,
     "metadata": {},
     "output_type": "execute_result"
    }
   ],
   "source": [
    "# Performance (R2 score) on test data.\n",
    "clf.score(X_test, y_test) # Highest possible = 1"
   ]
  },
  {
   "cell_type": "code",
   "execution_count": 106,
   "metadata": {
    "nbgrader": {
     "grade": false,
     "grade_id": "cell-1b4ee4e31b58791b",
     "locked": true,
     "schema_version": 1,
     "solution": false
    }
   },
   "outputs": [],
   "source": [
    "y_pred = clf.predict(X_test) # already defined- notebook previously was run"
   ]
  },
  {
   "cell_type": "code",
   "execution_count": 107,
   "metadata": {
    "nbgrader": {
     "grade": false,
     "grade_id": "cell-ffe162c26621a7f4",
     "locked": true,
     "schema_version": 1,
     "solution": false
    },
    "scrolled": true
   },
   "outputs": [
    {
     "data": {
      "text/plain": [
       "0.8538461538461538"
      ]
     },
     "execution_count": 107,
     "metadata": {},
     "output_type": "execute_result"
    }
   ],
   "source": [
    "# Accuracy on test data.\n",
    "accuracy_score(y_test, y_pred)"
   ]
  },
  {
   "cell_type": "markdown",
   "metadata": {},
   "source": [
    "Notice that our word2vec was trained on really small dataset (a few thousand words) instead of real-world Billions of words. Which means most of the words in tweets datset it didn't even recognize (assigned vectors of 0s). Yet, it still performed really well."
   ]
  },
  {
   "cell_type": "code",
   "execution_count": null,
   "metadata": {},
   "outputs": [],
   "source": []
  }
 ],
 "metadata": {
  "celltoolbar": "Create Assignment",
  "kernelspec": {
   "display_name": "Python 3",
   "language": "python",
   "name": "python3"
  },
  "language_info": {
   "codemirror_mode": {
    "name": "ipython",
    "version": 3
   },
   "file_extension": ".py",
   "mimetype": "text/x-python",
   "name": "python",
   "nbconvert_exporter": "python",
   "pygments_lexer": "ipython3",
   "version": "3.6.5"
  }
 },
 "nbformat": 4,
 "nbformat_minor": 2
}
